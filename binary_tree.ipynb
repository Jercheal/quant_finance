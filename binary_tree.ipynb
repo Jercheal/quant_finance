{
 "cells": [
  {
   "cell_type": "markdown",
   "metadata": {},
   "source": [
    "# Coding the Binary Tree Model for pricing Options and the Underlying"
   ]
  },
  {
   "cell_type": "code",
   "execution_count": 29,
   "metadata": {},
   "outputs": [],
   "source": [
    "import numpy as np\n",
    "from scipy import stats"
   ]
  },
  {
   "cell_type": "markdown",
   "metadata": {},
   "source": [
    "First, create the `Node` class which we will use to generate the binary tree representing the evolution of the price of the underlying."
   ]
  },
  {
   "cell_type": "code",
   "execution_count": 24,
   "metadata": {},
   "outputs": [],
   "source": [
    "class Node_Underlying:\n",
    "    def __init__(self, val, prob, left=None, right=None):\n",
    "        self.val = val\n",
    "        self.prob = prob\n",
    "        self.left = left\n",
    "        self.right = right\n",
    "\n",
    "    def is_leaf(self):\n",
    "        return self.left is None and self.right is None\n",
    "    \n",
    "def collect_leaves(tree):\n",
    "    if tree.is_leaf():\n",
    "        return np.array([[tree.val, tree.prob]])\n",
    "    else:\n",
    "        return np.concat((collect_leaves(tree.left), collect_leaves(tree.right)), axis=0)"
   ]
  },
  {
   "cell_type": "markdown",
   "metadata": {},
   "source": [
    "## Binary Tree for the Underlying\n",
    "\n",
    "Now, we want to create the binary tree for the value evolution of the underlying by prescribing a mean $\\mu$ a volatility parameter $\\sigma$ and a time interval $\\delta t$."
   ]
  },
  {
   "cell_type": "code",
   "execution_count": 100,
   "metadata": {},
   "outputs": [],
   "source": [
    "def create_binary_underlying(depth: int, current_val: float, drift: float, vol: float, dt: float, current_prob: float=1.0, current_depth: int=0):\n",
    "    if 0.5 + drift * np.sqrt(dt) / (2 * vol) > 1:\n",
    "        raise ValueError(\"The parameters are chosen s.t. probability p for rise is p > 1.\")\n",
    "    if current_depth == depth + 1:\n",
    "        return\n",
    "    else:\n",
    "        rising_node = create_binary_underlying(depth, current_val * (1 + vol * np.sqrt(dt)), drift, vol, dt, current_prob * (1/2 + drift * np.sqrt(dt) / (2 * vol)), current_depth + 1)\n",
    "        falling_node = create_binary_underlying(depth, current_val * (1 - vol * np.sqrt(dt)), drift, vol, dt, current_prob * (1/2 - drift * np.sqrt(dt) / (2 * vol)), current_depth + 1)\n",
    "        root_node = Node_Underlying(current_val, current_prob, rising_node, falling_node)\n",
    "        return root_node\n",
    "\n",
    "def take_path(tree, drift: float, vol: float, dt: float):\n",
    "    if tree.is_leaf():\n",
    "        return np.array([tree.val])\n",
    "     \n",
    "    prob = 1/2 + drift * np.sqrt(dt) / (2 * vol)\n",
    "    X = np.random.binomial(1, prob)\n",
    "    if X == 1:\n",
    "        return np.concat(([tree.val], take_path(tree.left, drift, vol, dt)))\n",
    "    elif X == 0:\n",
    "        return np.concat(([tree.val], take_path(tree.right, drift, vol, dt)))\n",
    "    \n",
    "def expected_underlying_price(tree):\n",
    "    leaves = collect_leaves(tree)\n",
    "    return np.sum(leaves[:,0] * leaves[:,1])"
   ]
  },
  {
   "cell_type": "code",
   "execution_count": 101,
   "metadata": {},
   "outputs": [
    {
     "data": {
      "text/plain": [
       "np.float64(102.01911448605382)"
      ]
     },
     "execution_count": 101,
     "metadata": {},
     "output_type": "execute_result"
    }
   ],
   "source": [
    "tree = create_binary_underlying(20, 100.0, 0.1, 0.01, 0.01)\n",
    "expected_underlying_price(tree)"
   ]
  },
  {
   "cell_type": "markdown",
   "metadata": {},
   "source": [
    "Creating the binary tree clearly scales exponentially as there are $2^N$ leaf nodes for a depth $N$. So instead of calculating an entire tree and then taking random paths in this tree according to the probability $p$, we could also create different realizations without the whole tree."
   ]
  },
  {
   "cell_type": "code",
   "execution_count": 116,
   "metadata": {},
   "outputs": [
    {
     "data": {
      "text/plain": [
       "array([100.        , 100.1       , 100.2001    , 100.3003001 ,\n",
       "       100.1999998 , 100.3001998 , 100.1998996 , 100.3000995 ,\n",
       "       100.1997994 , 100.2999992 , 100.1996992 , 100.2998989 ,\n",
       "       100.199599  , 100.0993994 , 100.1994988 , 100.0992993 ,\n",
       "       100.1993986 , 100.0991992 , 100.1992984 , 100.2994977 ,\n",
       "       100.1991982 , 100.2993974 , 100.3996968 , 100.5000965 ,\n",
       "       100.3995964 , 100.2991968 , 100.399496  , 100.2990965 ,\n",
       "       100.3993956 , 100.2989962 , 100.19869721, 100.09849851,\n",
       "        99.99840001, 100.09839841,  99.99830001,  99.89830171,\n",
       "        99.79840341,  99.69860501,  99.79830361,  99.69850531,\n",
       "        99.5988068 ,  99.69840561,  99.59870721,  99.69830591,\n",
       "        99.59860761,  99.499009  ,  99.39950999,  99.4989095 ,\n",
       "        99.59840841,  99.49881   ,  99.59830881,  99.69790712,\n",
       "        99.79760503,  99.89740263,  99.79750523,  99.89730274,\n",
       "        99.99720004, 100.09719724,  99.99710004, 100.09709714,\n",
       "        99.99700004, 100.09699704, 100.19709404, 100.29729113,\n",
       "       100.19699384, 100.09679685,  99.99670005,  99.89670335,\n",
       "        99.79680665,  99.69700984,  99.79670685,  99.69691015,\n",
       "        99.59721324,  99.69681045,  99.59711364,  99.69671075,\n",
       "        99.79640746,  99.89620387,  99.79630767,  99.69651136,\n",
       "        99.79620787,  99.89600408,  99.99590008, 100.09589598,\n",
       "        99.99580009,  99.89580429,  99.79590848,  99.69611257,\n",
       "        99.79580869,  99.89560449,  99.79570889,  99.8955046 ,\n",
       "        99.9954001 ,  99.8954047 ,  99.99530011, 100.09529541,\n",
       "       100.1953907 , 100.29558609, 100.39588168, 100.2954858 ,\n",
       "       100.19519031])"
      ]
     },
     "execution_count": 116,
     "metadata": {},
     "output_type": "execute_result"
    }
   ],
   "source": [
    "def generate_path(init_val: float, drift: float, vol: float, dt: float, depth: int):\n",
    "    current_val = init_val\n",
    "    vals = np.array([current_val])\n",
    "    u = 1 + vol * np.sqrt(dt)\n",
    "    v = 1 - vol * np.sqrt(dt)\n",
    "    p = 1/2 + drift * np.sqrt(dt) / (2 * vol)\n",
    "    for i in range(depth):\n",
    "        X = np.random.binomial(1, p)\n",
    "        if X == 1:\n",
    "            current_val = current_val * u\n",
    "        if X == 0:\n",
    "            current_val = current_val * v\n",
    "        vals = np.append(vals, current_val)\n",
    "    return vals\n",
    "\n",
    "generate_path(100.0,  0.01, 0.01, 0.01, 100)"
   ]
  }
 ],
 "metadata": {
  "kernelspec": {
   "display_name": "quant",
   "language": "python",
   "name": "python3"
  },
  "language_info": {
   "codemirror_mode": {
    "name": "ipython",
    "version": 3
   },
   "file_extension": ".py",
   "mimetype": "text/x-python",
   "name": "python",
   "nbconvert_exporter": "python",
   "pygments_lexer": "ipython3",
   "version": "3.13.2"
  }
 },
 "nbformat": 4,
 "nbformat_minor": 2
}
