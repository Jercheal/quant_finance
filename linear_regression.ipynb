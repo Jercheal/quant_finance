{
 "cells": [
  {
   "cell_type": "code",
   "execution_count": 145,
   "metadata": {},
   "outputs": [],
   "source": [
    "import numpy as np\n",
    "from sklearn.datasets import load_diabetes\n",
    "from sklearn.model_selection import train_test_split\n",
    "from sklearn.feature_selection import r_regression\n",
    "from sklearn.covariance import empirical_covariance\n",
    "import matplotlib.pyplot as plt\n",
    "from sklearn.linear_model import LinearRegression, Ridge, Lasso, ElasticNetCV\n",
    "\n",
    "def MSE(model, X_test, y_test):\n",
    "    test_err = np.mean((model.predict(X_test) - y_test) ** 2)\n",
    "    print(f\"Test mean squared error of the model is\", test_err, \".\")"
   ]
  },
  {
   "cell_type": "markdown",
   "metadata": {},
   "source": [
    "# Linear Regression: Regularization, Feature Selection etc."
   ]
  },
  {
   "cell_type": "code",
   "execution_count": 13,
   "metadata": {},
   "outputs": [],
   "source": [
    "diabetes = load_diabetes()\n",
    "X = diabetes['data']\n",
    "y = diabetes['target']\n",
    "X_train, X_test, y_train, y_test = train_test_split(X, y, train_size=0.8)"
   ]
  },
  {
   "cell_type": "markdown",
   "metadata": {},
   "source": [
    "## No regularization, no feature selection"
   ]
  },
  {
   "cell_type": "code",
   "execution_count": 59,
   "metadata": {},
   "outputs": [
    {
     "name": "stdout",
     "output_type": "stream",
     "text": [
      "Test mean squared error of the unregularized model without feature selection is 3032.2744510045104 .\n"
     ]
    }
   ],
   "source": [
    "model_0 = LinearRegression()\n",
    "model_0.fit(X_train, y_train)\n",
    "test_err_0 = np.mean((model_0.predict(X_test) - y_test) ** 2)\n",
    "print(f\"Test mean squared error of the unregularized model without feature selection is\", test_err_0, \".\")"
   ]
  },
  {
   "cell_type": "markdown",
   "metadata": {},
   "source": [
    "## By-hand subset selection\n",
    "\n",
    "Let's look at the correlation score and filter out those features which show a strong correlation with the corresponding labels. To that end, we make use of the `r_regression` function from sklearn."
   ]
  },
  {
   "cell_type": "code",
   "execution_count": 72,
   "metadata": {},
   "outputs": [
    {
     "name": "stdout",
     "output_type": "stream",
     "text": [
      "Test mean squared error of the unregularized model with feature selection is 3263.9168833028207 .\n"
     ]
    }
   ],
   "source": [
    "mask = abs(r_regression(X_train, y_train)) > 0.3\n",
    "model_1 = LinearRegression()\n",
    "model_1.fit(X_train[:, mask], y_train)\n",
    "test_err_1 = np.mean((model_1.predict(X_test[:, mask]) - y_test) ** 2)\n",
    "print(f\"Test mean squared error of the unregularized model with feature selection is\", test_err_1, \".\")"
   ]
  },
  {
   "cell_type": "markdown",
   "metadata": {},
   "source": [
    "The test error increases when we reduce the number of features, but only slightly. In this way, we see that the chosen features are the predictive ones. This increases the interpretability of the model and reduces computational costs.\\\n",
    "\\\n",
    "Let's see what happens if we take exactly those features with low correlation coefficients."
   ]
  },
  {
   "cell_type": "code",
   "execution_count": 74,
   "metadata": {},
   "outputs": [
    {
     "name": "stdout",
     "output_type": "stream",
     "text": [
      "Test mean squared error of the unregularized model with the bad feature selection is 5967.128468210624 .\n"
     ]
    }
   ],
   "source": [
    "model_1_bad = LinearRegression()\n",
    "model_1_bad.fit(X_train[:, ~mask], y_train)\n",
    "test_err_1_bad = np.mean((model_1_bad.predict(X_test[:, ~mask]) - y_test) ** 2)\n",
    "print(f\"Test mean squared error of the unregularized model with the bad feature selection is\", test_err_1_bad, \".\")"
   ]
  },
  {
   "cell_type": "markdown",
   "metadata": {},
   "source": [
    "With this, it is clear that dropping the \"bad\" features didn't increase the MSE substantially while dropping the predictive features did."
   ]
  },
  {
   "cell_type": "markdown",
   "metadata": {},
   "source": [
    "## Feature selection with `SelectKBest`"
   ]
  },
  {
   "cell_type": "code",
   "execution_count": 75,
   "metadata": {},
   "outputs": [],
   "source": [
    "from sklearn.feature_selection import SelectKBest, f_regression"
   ]
  },
  {
   "cell_type": "code",
   "execution_count": 104,
   "metadata": {},
   "outputs": [],
   "source": [
    "subset_fit = SelectKBest(f_regression, k=5).fit(X_train, y_train)\n",
    "X_train_new = subset_fit.transform(X_train)\n",
    "X_test_new = subset_fit.transform(X_test)"
   ]
  },
  {
   "cell_type": "code",
   "execution_count": 105,
   "metadata": {},
   "outputs": [
    {
     "name": "stdout",
     "output_type": "stream",
     "text": [
      "Test mean squared error of the unregularized model with the SelectKBest feature selection is 3270.8925752670843 .\n"
     ]
    }
   ],
   "source": [
    "model_2 = LinearRegression()\n",
    "model_2.fit(X_train_new, y_train)\n",
    "test_err_2 = np.mean((model_2.predict(X_test_new) - y_test) **2 )\n",
    "print(f\"Test mean squared error of the unregularized model with the SelectKBest feature selection is\", test_err_2, \".\")"
   ]
  },
  {
   "cell_type": "markdown",
   "metadata": {},
   "source": [
    "## Ridge regression with fixed coefficient"
   ]
  },
  {
   "cell_type": "code",
   "execution_count": 130,
   "metadata": {},
   "outputs": [
    {
     "name": "stdout",
     "output_type": "stream",
     "text": [
      "Test mean squared error of the model is 3356.232112945951 .\n"
     ]
    }
   ],
   "source": [
    "model_3 = Ridge(alpha = 0.4)\n",
    "model_3.fit(X_train, y_train)\n",
    "MSE(model_3, X_test, y_test)"
   ]
  },
  {
   "cell_type": "markdown",
   "metadata": {},
   "source": [
    "## Finding the optimal ridge regression coefficient"
   ]
  },
  {
   "cell_type": "code",
   "execution_count": 113,
   "metadata": {},
   "outputs": [],
   "source": [
    "from sklearn.model_selection import GridSearchCV"
   ]
  },
  {
   "cell_type": "code",
   "execution_count": 141,
   "metadata": {},
   "outputs": [
    {
     "name": "stdout",
     "output_type": "stream",
     "text": [
      "Test mean squared error of the model is 3129.2937130079144 .\n",
      "The GridSearchCV for the optimal choice of alpha yields alpha =  0.1\n"
     ]
    }
   ],
   "source": [
    "params = {'alpha': [0.1*i for i in range(10)]}\n",
    "model_4 = Ridge()\n",
    "optimal_ridge = GridSearchCV(model_4, params, cv=5)\n",
    "optimal_ridge.fit(X_train, y_train)\n",
    "MSE(optimal_ridge, X_test, y_test)\n",
    "print(f\"The GridSearchCV for the optimal choice of alpha yields alpha = \", params['alpha'][np.argmin(optimal_ridge.cv_results_['rank_test_score'])])"
   ]
  },
  {
   "cell_type": "markdown",
   "metadata": {},
   "source": [
    "## Lasso regression"
   ]
  },
  {
   "cell_type": "code",
   "execution_count": 144,
   "metadata": {},
   "outputs": [
    {
     "name": "stdout",
     "output_type": "stream",
     "text": [
      "Test mean squared error of the model is 3367.9271875330373 .\n"
     ]
    },
    {
     "data": {
      "text/plain": [
       "{'alpha': 0.3,\n",
       " 'copy_X': True,\n",
       " 'fit_intercept': True,\n",
       " 'max_iter': 1000,\n",
       " 'positive': False,\n",
       " 'precompute': False,\n",
       " 'random_state': None,\n",
       " 'selection': 'cyclic',\n",
       " 'tol': 0.0001,\n",
       " 'warm_start': False}"
      ]
     },
     "execution_count": 144,
     "metadata": {},
     "output_type": "execute_result"
    }
   ],
   "source": [
    "model_5 = Lasso(alpha=0.3)\n",
    "model_5.fit(X_train, y_train)\n",
    "MSE(model_5, X_test, y_test)\n",
    "model_5.get_params()"
   ]
  },
  {
   "cell_type": "markdown",
   "metadata": {},
   "source": [
    "## Elastic net with CV search"
   ]
  },
  {
   "cell_type": "code",
   "execution_count": 156,
   "metadata": {},
   "outputs": [
    {
     "name": "stdout",
     "output_type": "stream",
     "text": [
      "Test mean squared error of the model is 3117.541373766404 .\n"
     ]
    }
   ],
   "source": [
    "model_6 = ElasticNetCV(l1_ratio=0.9, cv=5)\n",
    "model_6.fit(X_train, y_train)\n",
    "MSE(model_6, X_test, y_test)"
   ]
  },
  {
   "cell_type": "code",
   "execution_count": 190,
   "metadata": {},
   "outputs": [
    {
     "data": {
      "text/plain": [
       "(100, 10)"
      ]
     },
     "execution_count": 190,
     "metadata": {},
     "output_type": "execute_result"
    },
    {
     "data": {
      "image/png": "[encoded data removed]",
      "text/plain": [
       "<Figure size 640x480 with 1 Axes>"
      ]
     },
     "metadata": {},
     "output_type": "display_data"
    }
   ],
   "source": [
    "X_min = np.zeros((10))\n",
    "X_min[2] = np.min(X[:,2])\n",
    "X_max = np.zeros((10))\n",
    "X_max[2] = np.max(X[:,2])\n",
    "X_2_cont = np.linspace(X_min, X_max, 100)\n",
    "pred_cont = model_6.predict(X_2_cont)\n",
    "plt.scatter(X_test[:,2], y_test)\n",
    "plt.plot(X_2_cont[:,2], pred_cont)\n",
    "X_2_cont.shape"
   ]
  }
 ],
 "metadata": {
  "kernelspec": {
   "display_name": "quant",
   "language": "python",
   "name": "python3"
  },
  "language_info": {
   "codemirror_mode": {
    "name": "ipython",
    "version": 3
   },
   "file_extension": ".py",
   "mimetype": "text/x-python",
   "name": "python",
   "nbconvert_exporter": "python",
   "pygments_lexer": "ipython3",
   "version": "3.13.2"
  }
 },
 "nbformat": 4,
 "nbformat_minor": 2
}
